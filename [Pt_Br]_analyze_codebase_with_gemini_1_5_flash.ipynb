{
  "cells": [
    {
      "cell_type": "code",
      "execution_count": null,
      "metadata": {
        "id": "bCIMTPB1WoTq"
      },
      "outputs": [],
      "source": [
        "# Copyright 2024 Google LLC\n",
        "#\n",
        "# Licensed under the Apache License, Version 2.0 (the \"License\");\n",
        "# you may not use this file except in compliance with the License.\n",
        "# You may obtain a copy of the License at\n",
        "#\n",
        "#     https://www.apache.org/licenses/LICENSE-2.0\n",
        "#\n",
        "# Unless required by applicable law or agreed to in writing, software\n",
        "# distributed under the License is distributed on an \"AS IS\" BASIS,\n",
        "# WITHOUT WARRANTIES OR CONDITIONS OF ANY KIND, either express or implied.\n",
        "# See the License for the specific language governing permissions and\n",
        "# limitations under the License.\n",
        "\n",
        "# This code is based on https://github.com/GoogleCloudPlatform/generative-ai/blob/main/gemini/use-cases/code/analyze_codebase_with_gemini_1_5_pro.ipynb"
      ]
    },
    {
      "cell_type": "markdown",
      "metadata": {
        "id": "pPmcMNgZpo9V"
      },
      "source": [
        "# Analise uma base de código com o Vertex AI Gemini 1.5 Flash\n",
        "\n",
        "\n",
        "<table align=\"left\">\n",
        "  <td style=\"text-align: center\">\n",
        "    <a href=\"https://colab.research.google.com/github/GoogleCloudPlatform/generative-ai/blob/main/gemini/use-cases/code/analyze_codebase_with_gemini_1_5_pro.ipynb\">\n",
        "      <img src=\"https://cloud.google.com/ml-engine/images/colab-logo-32px.png\" alt=\"Google Colaboratory logo\"><br> Open in Colab\n",
        "    </a>\n",
        "  </td>\n",
        "  <td style=\"text-align: center\">\n",
        "    <a href=\"https://console.cloud.google.com/vertex-ai/colab/import/https:%2F%2Fraw.githubusercontent.com%2FGoogleCloudPlatform%2Fgenerative-ai%2Fmain%2Fgemini%2Fuse-cases%2Fcode%2Fanalyze_codebase_with_gemini_1_5_pro.ipynb\">\n",
        "      <img width=\"32px\" src=\"https://lh3.googleusercontent.com/JmcxdQi-qOpctIvWKgPtrzZdJJK-J3sWE1RsfjZNwshCFgE_9fULcNpuXYTilIR2hjwN\" alt=\"Google Cloud Colab Enterprise logo\"><br> Open in Colab Enterprise\n",
        "    </a>\n",
        "  </td>    \n",
        "  <td style=\"text-align: center\">\n",
        "    <a href=\"https://console.cloud.google.com/vertex-ai/workbench/deploy-notebook?download_url=https://raw.githubusercontent.com/GoogleCloudPlatform/generative-ai/main/gemini/use-cases/code/analyze_codebase_with_gemini_1_5_pro.ipynb\">\n",
        "      <img src=\"https://lh3.googleusercontent.com/UiNooY4LUgW_oTvpsNhPpQzsstV5W8F7rYgxgGBD85cWJoLmrOzhVs_ksK_vgx40SHs7jCqkTkCk=e14-rj-sc0xffffff-h130-w32\" alt=\"Vertex AI logo\"><br> Open in Workbench\n",
        "    </a>\n",
        "  </td>\n",
        "  <td style=\"text-align: center\">\n",
        "    <a href=\"https://github.com/GoogleCloudPlatform/generative-ai/blob/main/gemini/use-cases/code/analyze_codebase_with_gemini_1_5_pro.ipynb\">\n",
        "      <img src=\"https://cloud.google.com/ml-engine/images/github-logo-32px.png\" alt=\"GitHub logo\"><br> View on GitHub\n",
        "    </a>\n",
        "  </td>\n",
        "</table>\n"
      ]
    },
    {
      "cell_type": "markdown",
      "metadata": {
        "id": "1EExYZvij2ve"
      },
      "source": [
        "| | |\n",
        "|-|-|\n",
        "|Author(s) | [Eric Dong](https://github.com/gericdong), [Aakash Gouda](https://github.com/aksstar)|\n",
        "| | |\n",
        "|Translate | [Alvaro David](https://github.com/AlvarDev)|"
      ]
    },
    {
      "cell_type": "markdown",
      "metadata": {
        "id": "7yVV6txOmNMn"
      },
      "source": [
        "## Visão geral\n",
        "\n",
        "O Gemini 1.5 Flash apresenta uma janela de contexto longa e inovadora de até 1 milhão de tokens que pode ajudar a analisar, classificar e resumir perfeitamente grandes quantidades de conteúdo em um determinado prompt. Com seu raciocínio de longo contexto, o Gemini 1.5 Flash pode analisar uma base de código inteira para obter insights mais profundos.\n",
        "\n",
        "Neste tutorial, você aprende como analisar uma base de código inteira com Gemini 1.5 Flash e solicitar ao modelo:\n",
        "\n",
        "- **Analisar**: Resuma bases de código sem esforço.\n",
        "- **Guia**: Gere documentação clara de introdução ao desenvolvedor.\n",
        "- **Depurar**: Descubra bugs críticos e forneça correções.\n",
        "- **Aprimorar**: implemente novos recursos e melhore a confiabilidade e a segurança.\n"
      ]
    },
    {
      "cell_type": "markdown",
      "metadata": {
        "id": "hdMGtr18rFdL"
      },
      "source": [
        "## Getting Started"
      ]
    },
    {
      "cell_type": "markdown",
      "metadata": {
        "id": "No17Cw5hgx12"
      },
      "source": [
        "### Instalar o SDK da Vertex AI para Python\n"
      ]
    },
    {
      "cell_type": "code",
      "execution_count": null,
      "metadata": {
        "id": "tFy3H3aPgx12",
        "colab": {
          "base_uri": "https://localhost:8080/"
        },
        "outputId": "2287d274-c08d-4cc0-a630-56059df5f9c6"
      },
      "outputs": [
        {
          "output_type": "stream",
          "name": "stdout",
          "text": [
            "\u001b[2K     \u001b[90m━━━━━━━━━━━━━━━━━━━━━━━━━━━━━━━━━━━━━━━━\u001b[0m \u001b[32m5.1/5.1 MB\u001b[0m \u001b[31m31.5 MB/s\u001b[0m eta \u001b[36m0:00:00\u001b[0m\n",
            "\u001b[2K     \u001b[90m━━━━━━━━━━━━━━━━━━━━━━━━━━━━━━━━━━━━━━━━\u001b[0m \u001b[32m207.3/207.3 kB\u001b[0m \u001b[31m21.8 MB/s\u001b[0m eta \u001b[36m0:00:00\u001b[0m\n",
            "\u001b[2K     \u001b[90m━━━━━━━━━━━━━━━━━━━━━━━━━━━━━━━━━━━━━━━━\u001b[0m \u001b[32m1.0/1.0 MB\u001b[0m \u001b[31m55.8 MB/s\u001b[0m eta \u001b[36m0:00:00\u001b[0m\n",
            "\u001b[2K     \u001b[90m━━━━━━━━━━━━━━━━━━━━━━━━━━━━━━━━━━━━━━━━\u001b[0m \u001b[32m62.7/62.7 kB\u001b[0m \u001b[31m7.7 MB/s\u001b[0m eta \u001b[36m0:00:00\u001b[0m\n",
            "\u001b[2K     \u001b[90m━━━━━━━━━━━━━━━━━━━━━━━━━━━━━━━━━━━━━━━━\u001b[0m \u001b[32m18.2/18.2 MB\u001b[0m \u001b[31m61.4 MB/s\u001b[0m eta \u001b[36m0:00:00\u001b[0m\n",
            "\u001b[2K     \u001b[90m━━━━━━━━━━━━━━━━━━━━━━━━━━━━━━━━━━━━━━━━\u001b[0m \u001b[32m6.8/6.8 MB\u001b[0m \u001b[31m85.9 MB/s\u001b[0m eta \u001b[36m0:00:00\u001b[0m\n",
            "\u001b[2K     \u001b[90m━━━━━━━━━━━━━━━━━━━━━━━━━━━━━━━━━━━━━━━━\u001b[0m \u001b[32m46.0/46.0 kB\u001b[0m \u001b[31m4.8 MB/s\u001b[0m eta \u001b[36m0:00:00\u001b[0m\n",
            "\u001b[2K     \u001b[90m━━━━━━━━━━━━━━━━━━━━━━━━━━━━━━━━━━━━━━━━\u001b[0m \u001b[32m86.8/86.8 kB\u001b[0m \u001b[31m9.4 MB/s\u001b[0m eta \u001b[36m0:00:00\u001b[0m\n",
            "\u001b[?25h\u001b[33m  WARNING: The script dotenv is installed in '/root/.local/bin' which is not on PATH.\n",
            "  Consider adding this directory to PATH or, if you prefer to suppress this warning, use --no-warn-script-location.\u001b[0m\u001b[33m\n",
            "\u001b[0m\u001b[33m  WARNING: The script f2py is installed in '/root/.local/bin' which is not on PATH.\n",
            "  Consider adding this directory to PATH or, if you prefer to suppress this warning, use --no-warn-script-location.\u001b[0m\u001b[33m\n",
            "\u001b[0m\u001b[33m  WARNING: The script humanfriendly is installed in '/root/.local/bin' which is not on PATH.\n",
            "  Consider adding this directory to PATH or, if you prefer to suppress this warning, use --no-warn-script-location.\u001b[0m\u001b[33m\n",
            "\u001b[0m\u001b[33m  WARNING: The script coloredlogs is installed in '/root/.local/bin' which is not on PATH.\n",
            "  Consider adding this directory to PATH or, if you prefer to suppress this warning, use --no-warn-script-location.\u001b[0m\u001b[33m\n",
            "\u001b[0m\u001b[33m  WARNING: The script onnxruntime_test is installed in '/root/.local/bin' which is not on PATH.\n",
            "  Consider adding this directory to PATH or, if you prefer to suppress this warning, use --no-warn-script-location.\u001b[0m\u001b[33m\n",
            "\u001b[0m\u001b[33m  WARNING: The script magika is installed in '/root/.local/bin' which is not on PATH.\n",
            "  Consider adding this directory to PATH or, if you prefer to suppress this warning, use --no-warn-script-location.\u001b[0m\u001b[33m\n",
            "\u001b[0m\u001b[33m  WARNING: The script tb-gcp-uploader is installed in '/root/.local/bin' which is not on PATH.\n",
            "  Consider adding this directory to PATH or, if you prefer to suppress this warning, use --no-warn-script-location.\u001b[0m\u001b[33m\n",
            "\u001b[0m"
          ]
        }
      ],
      "source": [
        "! pip3 install --upgrade --user --quiet google-cloud-aiplatform \\\n",
        "                                        gitpython \\\n",
        "                                        magika"
      ]
    },
    {
      "cell_type": "markdown",
      "metadata": {
        "id": "R5Xep4W9lq-Z"
      },
      "source": [
        "### Reiniciar o runtime (somente Colab)\n",
        "\n",
        "Para usar os pacotes recém-instalados neste runtime do Jupyter, você deve reiniciar o runtime. Você pode fazer isso executando a célula abaixo, que reinicia o kernel atual.\n",
        "\n",
        "A reinicialização pode demorar um minuto ou mais. Depois de reiniciado, continue para a próxima etapa."
      ]
    },
    {
      "cell_type": "code",
      "execution_count": null,
      "metadata": {
        "id": "XRvKdaPDTznN"
      },
      "outputs": [],
      "source": [
        "import sys\n",
        "\n",
        "if \"google.colab\" in sys.modules:\n",
        "    import IPython\n",
        "\n",
        "    app = IPython.Application.instance()\n",
        "    app.kernel.do_shutdown(True)"
      ]
    },
    {
      "cell_type": "markdown",
      "metadata": {
        "id": "SbmM4z7FOBpM"
      },
      "source": [
        "<div class=\"alert alert-block alert-warning\">\n",
        "<b>⚠️ O kernel será reiniciado. Aguarde até que termine antes de continuar para a próxima etapa. ⚠️</b>\n",
        "</div>\n"
      ]
    },
    {
      "cell_type": "markdown",
      "metadata": {
        "id": "dmWOrTJ3gx13"
      },
      "source": [
        "### Autentique seu ambiente de notebook (somente Colab)\n",
        "\n",
        "Se você estiver executando este notebook no Google Colab, execute a célula a seguir para autenticar seu ambiente.\n"
      ]
    },
    {
      "cell_type": "code",
      "execution_count": null,
      "metadata": {
        "id": "NyKGtVQjgx13"
      },
      "outputs": [],
      "source": [
        "import sys\n",
        "\n",
        "if \"google.colab\" in sys.modules:\n",
        "    from google.colab import auth\n",
        "\n",
        "    auth.authenticate_user()"
      ]
    },
    {
      "cell_type": "markdown",
      "metadata": {
        "id": "DF4l8DTdWgPY"
      },
      "source": [
        "### Defina as informações do projeto do Google Cloud e inicialize o SDK do Vertex AI\n",
        "\n",
        "Para começar a usar a Vertex AI, você precisa ter um projeto existente do Google Cloud e [ativar a API Vertex AI](https://console.cloud.google.com/flows/enableapi?apiid=aiplatform.googleapis.com).\n",
        "\n",
        "Saiba mais sobre [como configurar um projeto e um ambiente de desenvolvimento](https://cloud.google.com/vertex-ai/docs/start/cloud-environment)."
      ]
    },
    {
      "cell_type": "code",
      "execution_count": null,
      "metadata": {
        "id": "Nqwi-5ufWp_B"
      },
      "outputs": [],
      "source": [
        "PROJECT_ID = \"sre-demos\"  # @param {type:\"string\"}\n",
        "LOCATION = \"us-central1\"  # @param {type:\"string\"}\n",
        "\n",
        "import vertexai\n",
        "\n",
        "vertexai.init(project=PROJECT_ID, location=LOCATION)"
      ]
    },
    {
      "cell_type": "markdown",
      "metadata": {
        "id": "vbozY-XKee95"
      },
      "source": [
        "### Importar bibliotecas"
      ]
    },
    {
      "cell_type": "code",
      "execution_count": null,
      "metadata": {
        "id": "NSCFmvOWBas9"
      },
      "outputs": [],
      "source": [
        "import IPython.display\n",
        "from IPython.core.interactiveshell import InteractiveShell\n",
        "\n",
        "InteractiveShell.ast_node_interactivity = \"all\"\n",
        "\n",
        "from vertexai.generative_models import (\n",
        "    FunctionDeclaration,\n",
        "    GenerationConfig,\n",
        "    GenerativeModel,\n",
        "    Tool,\n",
        ")"
      ]
    },
    {
      "cell_type": "markdown",
      "metadata": {
        "id": "WNoOTMp2fe33"
      },
      "source": [
        "## Clonando uma base de código\n",
        "\n",
        "Você usará o repo [Online Boutique](https://github.com/GoogleCloudPlatform/microservices-demo) como exemplo neste notebook. Online Boutique é um aplicativo de demonstração de microsserviços que prioriza a nuvem. O aplicativo é um aplicativo de comércio eletrônico baseado na web onde os usuários podem navegar pelos itens, adicioná-los ao carrinho e comprá-los. Este aplicativo consiste em 11 microsserviços em múltiplas linguagens de programação."
      ]
    },
    {
      "cell_type": "code",
      "execution_count": null,
      "metadata": {
        "id": "GlDOs49qgStM"
      },
      "outputs": [],
      "source": [
        "# The GitHub repository URL\n",
        "repo_url = \"https://github.com/GoogleCloudPlatform/microservices-demo\"  # @param {type:\"string\"}\n",
        "\n",
        "# The location to clone the repo\n",
        "repo_dir = \"./repo\""
      ]
    },
    {
      "cell_type": "markdown",
      "metadata": {
        "id": "PAm1ly9pfIEX"
      },
      "source": [
        "#### Definir funções auxiliares para processar o repositório em GitHub"
      ]
    },
    {
      "cell_type": "code",
      "execution_count": null,
      "metadata": {
        "id": "stNia6UaHau2"
      },
      "outputs": [],
      "source": [
        "import os\n",
        "import shutil\n",
        "from pathlib import Path\n",
        "import requests\n",
        "import git\n",
        "import magika\n",
        "\n",
        "m = magika.Magika()\n",
        "\n",
        "\n",
        "def clone_repo(repo_url, repo_dir):\n",
        "    \"\"\"Clone a GitHub repository.\"\"\"\n",
        "\n",
        "    if os.path.exists(repo_dir):\n",
        "        shutil.rmtree(repo_dir)\n",
        "    os.makedirs(repo_dir)\n",
        "    git.Repo.clone_from(repo_url, repo_dir)\n",
        "\n",
        "\n",
        "def extract_code(repo_dir):\n",
        "    \"\"\"Create an index, extract content of code/text files.\"\"\"\n",
        "\n",
        "    code_index = []\n",
        "    code_text = \"\"\n",
        "    for root, _, files in os.walk(repo_dir):\n",
        "        for file in files:\n",
        "            file_path = os.path.join(root, file)\n",
        "            relative_path = os.path.relpath(file_path, repo_dir)\n",
        "            code_index.append(relative_path)\n",
        "\n",
        "            file_type = m.identify_path(Path(file_path))\n",
        "            if file_type.output.group in (\"text\", \"code\"):\n",
        "                try:\n",
        "                    with open(file_path, \"r\") as f:\n",
        "                        code_text += f\"----- File: {relative_path} -----\\n\"\n",
        "                        code_text += f.read()\n",
        "                        code_text += \"\\n-------------------------\\n\"\n",
        "                except Exception:\n",
        "                    pass\n",
        "\n",
        "    return code_index, code_text\n",
        "\n",
        "\n",
        "def get_github_issue(owner: str, repo: str, issue_number: str) -> str:\n",
        "    headers = {\n",
        "        \"Accept\": \"application/vnd.github+json\",\n",
        "        \"X-GitHub-Api-Version\": \"2022-11-28\",\n",
        "    }  # Set headers for GitHub API\n",
        "\n",
        "    # Construct API URL\n",
        "    url = f\"https://api.github.com/repos/{owner}/{repo}/issues/{issue_number}\"\n",
        "\n",
        "    try:\n",
        "        response_git = requests.get(url, headers=headers)\n",
        "        response_git.raise_for_status()  # Check for HTTP errors\n",
        "    except requests.exceptions.RequestException as error:\n",
        "        print(f\"Error fetching issue: {error}\")  # Handle potential errors\n",
        "\n",
        "    issue_data = response_git.json()\n",
        "    if issue_data:\n",
        "        return issue_data[\"body\"]\n",
        "    return \"\""
      ]
    },
    {
      "cell_type": "markdown",
      "metadata": {
        "id": "m1UyVuQLuTKE"
      },
      "source": [
        "#### Crie um índice e extraia o conteúdo de uma base de código\n",
        "\n",
        "Clone o repositório e crie um índice e extraia o conteúdo dos arquivos de código/texto."
      ]
    },
    {
      "cell_type": "code",
      "execution_count": null,
      "metadata": {
        "id": "rqaYzmNQuTKQ"
      },
      "outputs": [],
      "source": [
        "clone_repo(repo_url, repo_dir)\n",
        "\n",
        "code_index, code_text = extract_code(repo_dir)"
      ]
    },
    {
      "cell_type": "markdown",
      "metadata": {
        "id": "JiVQB5SKekS0"
      },
      "source": [
        "## Analisando a base de código com Gemini 1.5 Flash\n",
        "\n",
        "Com seu raciocínio de longo contexto, o Gemini 1.5 Flash pode processar a base de código e responder perguntas sobre ela."
      ]
    },
    {
      "cell_type": "markdown",
      "metadata": {
        "id": "BY1nfXrqRxVX"
      },
      "source": [
        "#### Carregue o modelo Gemini 1.5 Flash\n",
        "\n",
        "Saiba mais sobre os [modelos de API Gemini na Vertex AI](https://cloud.google.com/vertex-ai/generative-ai/docs/learn/models#gemini-models).\n"
      ]
    },
    {
      "cell_type": "code",
      "execution_count": null,
      "metadata": {
        "id": "vB9gY3WruzK9"
      },
      "outputs": [],
      "source": [
        "MODEL_ID = \"gemini-1.5-flash-001\"\n",
        "\n",
        "model = GenerativeModel(\n",
        "    MODEL_ID,\n",
        "    system_instruction=[\n",
        "        \"Você é um especialista em codificação.\",\n",
        "        \"\"\"Sua missão é responder a todas as questões\n",
        "           relacionadas ao código com determinado contexto e instruções.\"\"\",\n",
        "    ],\n",
        ")"
      ]
    },
    {
      "cell_type": "markdown",
      "metadata": {
        "id": "yedKsUEEvNyb"
      },
      "source": [
        "#### Define a helper function to generate a prompt to a code related question"
      ]
    },
    {
      "cell_type": "code",
      "execution_count": null,
      "metadata": {
        "id": "1DGzMhjCvCpj"
      },
      "outputs": [],
      "source": [
        "def get_code_prompt(question):\n",
        "    \"\"\"Generates a prompt to a code related question.\"\"\"\n",
        "\n",
        "    prompt = f\"\"\"\n",
        "    Questões: {question}\n",
        "\n",
        "    Contexto:\n",
        "    - Toda a base de código é fornecida abaixo.\n",
        "    - Aqui está um índice de todos os arquivos na base de código:\n",
        "      \\n\\n{code_index}\\n\\n.\n",
        "    - Em seguida, cada um dos arquivos é concatenado.\n",
        "      Você encontrará todo o código que precisa:\n",
        "      \\n\\n{code_text}\\n\\n\n",
        "\n",
        "    Resposta:\n",
        "  \"\"\"\n",
        "\n",
        "    return prompt"
      ]
    },
    {
      "cell_type": "markdown",
      "metadata": {
        "id": "g3OtaszvJt9L"
      },
      "source": [
        "### 1. Resumindo a base de código\n",
        "\n",
        "\n",
        "Gere um resumo da base de código."
      ]
    },
    {
      "cell_type": "code",
      "execution_count": null,
      "metadata": {
        "id": "uMexx1Qtf1ML",
        "colab": {
          "base_uri": "https://localhost:8080/",
          "height": 352
        },
        "outputId": "9233cfc1-c3d0-46cf-e551-9f2f0ac3990a"
      },
      "outputs": [
        {
          "output_type": "execute_result",
          "data": {
            "text/plain": [
              "<IPython.core.display.Markdown object>"
            ],
            "text/markdown": "Este código é um exemplo de aplicação de microserviços chamado \"Online Boutique\". Ele consiste em 11 microserviços que se comunicam entre si usando gRPC, construídos em diferentes linguagens (Go, Python, C#, Node.js, Java). O frontend é uma aplicação Go que serve o site.\n\nAqui estão três coisas importantes que você pode aprender com este código:\n\n1. **Microserviços em Ação:** Este exemplo mostra como uma aplicação complexa pode ser decomposta em microserviços independentes e como eles podem ser construídos usando diferentes linguagens e frameworks. Você pode ver a organização do código, a comunicação via gRPC, e a gestão da aplicação como um todo.\n2. **Integração com Serviços do Google Cloud:**  O código integra vários serviços do Google Cloud como Google Cloud Build (para construção e push de imagens), Google Kubernetes Engine (para orquestração), Google Cloud Profiler, Google Cloud Trace, Google Cloud Secret Manager. Isso demonstra como microserviços podem ser facilmente integrados com serviços de infraestrutura.\n3. **Implementação de um Frontend**:  O frontend da aplicação, feito em Go, é um exemplo de como servir um site com recursos dinâmicos, usando bibliotecas e frameworks populares como o `mux` (para roteamento) e o `template` (para renderização de templates).\n"
          },
          "metadata": {},
          "execution_count": 22
        },
        {
          "output_type": "stream",
          "name": "stdout",
          "text": [
            "\n",
            "Usage metadata:\n",
            "{'prompt_token_count': 668886, 'candidates_token_count': 282, 'total_token_count': 669168}\n"
          ]
        }
      ],
      "source": [
        "question = \"\"\"\n",
        "  Dê-me um resumo dessa base de código e diga-me\n",
        "  as três principais coisas que posso aprender com ela.\n",
        "\"\"\"\n",
        "\n",
        "prompt = get_code_prompt(question)\n",
        "contents = [prompt]\n",
        "\n",
        "# Generate text using non-streaming method\n",
        "response = model.generate_content(contents)\n",
        "\n",
        "# Print generated text and usage metadata\n",
        "IPython.display.Markdown(response.text)\n",
        "print(f'\\nUsage metadata:\\n{response.to_dict().get(\"usage_metadata\")}')"
      ]
    },
    {
      "cell_type": "markdown",
      "metadata": {
        "id": "aCshJHPCYoxI"
      },
      "source": [
        "### 2. Criação de um guia de primeiros passos para desenvolvedores\n",
        "\n",
        "Gere um guia de primeiros passos para desenvolvedores. Este exemplo usa a opção de streaming para gerar o conteúdo."
      ]
    },
    {
      "cell_type": "code",
      "execution_count": null,
      "metadata": {
        "id": "e6Kns7vCYm1P",
        "colab": {
          "base_uri": "https://localhost:8080/",
          "height": 986
        },
        "outputId": "50312833-2877-4e1a-d37d-e6e09552a978"
      },
      "outputs": [
        {
          "output_type": "execute_result",
          "data": {
            "text/plain": [
              "<IPython.core.display.Markdown object>"
            ],
            "text/markdown": "Aqui estão alguns passos para integrar novos desenvolvedores à base de código:\n\n1. **Configurar o ambiente:** \n    * **Instale as dependências:** Certifique-se de que os novos desenvolvedores tenham todos os softwares, ferramentas e bibliotecas necessárias para trabalhar no projeto (por exemplo, Git, Docker, Skaffold, etc.).\n    * **Configure o IDE:** Forneça instruções para configurar o IDE preferido (por exemplo, Visual Studio Code, IntelliJ, etc.) para o projeto, incluindo configurações de formatação de código, depuração e integração de ferramentas.\n    * **Crie um ambiente de desenvolvimento local:** Configure um ambiente local para os novos desenvolvedores onde eles possam executar o projeto, como um contêiner Docker ou uma máquina virtual.\n\n2. **Forneça uma visão geral do projeto:**\n    * **Explique o propósito do projeto:** Comunique claramente o que o projeto faz, os problemas que ele resolve e seus objetivos.\n    * **Apresente a arquitetura do projeto:** Detalhe a estrutura do projeto, os diferentes componentes, como eles interagem e as tecnologias envolvidas.\n    * **Mostre a estrutura do código:** Explique os principais diretórios, arquivos e o padrão de nomenclatura usado no projeto.\n\n3. **Guiá-los pela base de código:**\n    * **Comece com o ponto de entrada:** Mostre aos novos desenvolvedores o arquivo ou o local onde o projeto é iniciado (por exemplo, o arquivo `main.go`, `index.js`, etc.) e explique como ele funciona.\n    * **Explique os principais módulos:** Descreva cada módulo ou componente do projeto, incluindo suas responsabilidades, funções e como eles se conectam.\n    * **Demonstre o fluxo do código:** Caminhe pelos desenvolvedores pelas etapas principais do fluxo do código, ilustrando como ele funciona e como as diferentes partes interagem.\n\n4. **Facilite a contribuição:**\n    * **Crie tarefas claras e fáceis de entender:** Avise os novos desenvolvedores sobre tarefas apropriadas para iniciantes para que eles comecem a contribuir.\n    * **Escreva um guia de estilo de código:** Inclua um guia claro e conciso sobre as convenções de estilo de código do projeto para manter a consistência.\n    * **Estabeleça um processo de revisão de código:** Explique o processo de revisão de código, incluindo as ferramentas usadas, as expectativas e o feedback.\n\n5. **Recursos e documentação:**\n    * **Documente a API:** Crie uma documentação completa para a API do projeto, incluindo como interagir com os serviços e os dados usados.\n    * **Forneça documentação para cada componente:** Crie documentação para cada módulo ou componente, incluindo exemplos de código, melhores práticas e explicações detalhadas.\n    * **Utilize um repositório de documentação:** Documente o projeto usando um repositório como `Readme.md` ou documentação específica do projeto, como `docs` ou `wiki`, para facilitar o acesso e a referência.\n\n6. **Comunicação e suporte:**\n    * **Defina canais de comunicação:** Crie um canal de comunicação para os novos desenvolvedores se conectarem, fazerem perguntas e compartilharem atualizações.\n    * **Forneça suporte contínuo:** Seja acessível para responder a perguntas, fornecer orientação e ajudar os novos desenvolvedores a navegar no projeto.\n\n7. **Usando ferramentas de automação:**\n    * **Utilize ferramentas de integração contínua e entrega contínua (CI/CD):** Explique as ferramentas CI/CD utilizadas para o projeto, incluindo como construir, testar e implantar o projeto. \n    * **Configure testes automatizados:** Certifique-se de que os novos desenvolvedores entendam como executar testes automatizados e sua importância no desenvolvimento. \n    * **Documente o processo de construção e implantação:** Escreva instruções detalhadas sobre como construir, testar e implantar o projeto, incluindo comandos e scripts.\n\nLembre-se de que a integração de novos desenvolvedores é um processo contínuo. Ao oferecer suporte e recursos adequados, você pode ajudar os novos desenvolvedores a se integrarem rapidamente à base de código e a se tornarem membros produtivos da equipe.\n"
          },
          "metadata": {},
          "execution_count": 23
        }
      ],
      "source": [
        "question = \"\"\"\n",
        "  Forneça um guia de primeiros passos para integrar\n",
        "  novos desenvolvedores à base de código.\n",
        "\"\"\"\n",
        "\n",
        "prompt = get_code_prompt(question)\n",
        "contents = [prompt]\n",
        "\n",
        "response = model.generate_content(contents)\n",
        "IPython.display.Markdown(response.text)\n"
      ]
    },
    {
      "cell_type": "markdown",
      "metadata": {
        "id": "hXurINu-jelb"
      },
      "source": [
        "### 3. Encontrando bugs\n",
        "\n",
        "Encontre os três problemas mais graves na base de código."
      ]
    },
    {
      "cell_type": "code",
      "execution_count": null,
      "metadata": {
        "id": "fy3AWPRgNhu_",
        "colab": {
          "base_uri": "https://localhost:8080/",
          "height": 665
        },
        "outputId": "7789c38e-0089-454d-f031-7ef985878455"
      },
      "outputs": [
        {
          "output_type": "execute_result",
          "data": {
            "text/plain": [
              "<IPython.core.display.Markdown object>"
            ],
            "text/markdown": "## Os 3 problemas mais sérios na base de código:\n\n1. **Falta de consistência na implementação de rastreio e métricas:** O rastreio e as métricas estão configurados de forma diferente em cada serviço, causando inconsistência e dificultando a monitorização geral do sistema. Alguns serviços têm um código para habilitar o rastreio, enquanto outros usam o padrão do framework em que foram construídos. Isso complica a análise das informações coletadas e a implementação de uma solução centralizada de monitorização.\n\n2. **Falta de testes de integração:** Embora os testes unitários sejam implementados em vários serviços, a base de código não contém testes de integração, o que significa que a interação entre os microserviços não é totalmente testada. Essa falha pode levar a problemas inesperados em produção e dificultar a detecção de erros relacionados à comunicação inter-serviço.\n\n3. **Implementação desatualizada de Redis:** A maioria dos serviços utiliza Redis para armazenar dados, mas a versão utilizada é desatualizada. Isso pode levar a vulnerabilidades de segurança e problemas de desempenho. É importante atualizar para a última versão disponível para garantir a segurança e o desempenho otimizado do sistema.\n\n## Explicação amigável:\n\nImagine que você está construindo um grande castelo com diferentes artesãos trabalhando em cada parte. Cada artesão está fazendo um bom trabalho em sua seção, mas não há um plano geral para combinar suas obras. Isso resultará em um castelo desorganizado e difícil de navegar.\n\nDa mesma forma, o código do Online Boutique apresenta algumas falhas:\n\n1. **Monitorização desorganizada:** Cada microserviço está monitorizando o seu próprio progresso, mas não há uma maneira consistente de juntar essas informações. Assim, é difícil ter uma visão geral do funcionamento do sistema.\n2. **Falta de teste em conjunto:** Os artesãos estão construindo as suas seções do castelo, mas não estão testando se as seções se encaixam. Isso pode resultar em problemas quando o castelo for construído, e será difícil identificar o problema.\n3. **Ferramentas desatualizadas:** A equipe está usando uma ferramenta de construção de tijolos muito antiga. Isso pode levar a tijolos fracos e ao castelo a desmoronar.\n\nÉ importante corrigir essas falhas para garantir que o Online Boutique seja um sistema estável e fácil de manter.\n\n## Sugestões de correções:\n\n- Implementar uma solução centralizada de rastreio e métricas para garantir a consistência entre os serviços.\n- Criar testes de integração para verificar a comunicação entre os microserviços.\n- Atualizar a versão do Redis para a última disponível.\n\nCom essas correções, o Online Boutique será um sistema mais robusto e fácil de gerenciar.\n"
          },
          "metadata": {},
          "execution_count": 24
        }
      ],
      "source": [
        "question = \"\"\"\n",
        "  Encontre os 3 problemas mais graves na base de código.\n",
        "  Me explique da forma mais clara possível e de uma forma humanamente amigável.\n",
        "\"\"\"\n",
        "\n",
        "prompt = get_code_prompt(question)\n",
        "contents = [prompt]\n",
        "\n",
        "response = model.generate_content(contents)\n",
        "IPython.display.Markdown(response.text)"
      ]
    },
    {
      "cell_type": "markdown",
      "metadata": {
        "id": "HCilrR6FjmfB"
      },
      "source": [
        "### 4. Corrigindo bug\n",
        "\n",
        "Encontre o problema mais grave na base de código que pode ser corrigido e forneça uma correção de código para ele."
      ]
    },
    {
      "cell_type": "code",
      "execution_count": null,
      "metadata": {
        "id": "dwjDh0xGKE2r",
        "colab": {
          "base_uri": "https://localhost:8080/",
          "height": 1000
        },
        "outputId": "fbef007e-6fe9-4012-b3f1-b0278e4cbe31"
      },
      "outputs": [
        {
          "output_type": "execute_result",
          "data": {
            "text/plain": [
              "<IPython.core.display.Markdown object>"
            ],
            "text/markdown": "O bug mais grave em `src/shoppingassistantservice/shoppingassistantservice.py` é a falta de tratamento de erro para o `fetch` na função `talkToGemini`. Se o `fetch` falhar, a função retornará um erro HTTP 500 sem informações específicas sobre o erro, dificultando o debug.\n\nAqui está a correção:\n\n```python\n    @app.route(\"/\", methods=['POST'])\n    def talkToGemini():\n        print(\"Beginning RAG call\")\n        prompt = request.json['message']\n        prompt = unquote(prompt)\n\n        # Step 1 – Get a room description from Gemini-vision-pro\n        llm_vision = ChatGoogleGenerativeAI(model=\"gemini-pro-vision\")\n        message = HumanMessage(\n            content=[\n                {\n                    \"type\": \"text\",\n                    \"text\": \"You are a professional interior designer, give me a detailed decsription of the style of the room in this image\",\n                },\n                {\"type\": \"image_url\", \"image_url\": request.json['image']},\n            ]\n        )\n        response = llm_vision.invoke([message])\n        print(\"Description step:\")\n        print(response)\n        description_response = response.content\n\n        # Step 2 – Similarity search with the description & user prompt\n        vector_search_prompt = f\"\"\" This is the user's request: {prompt} Find the most relevant items for that prompt, while matching style of the room described here: {description_response} \"\"\"\n        print(vector_search_prompt)\n\n        docs = vectorstore.similarity_search(vector_search_prompt)\n        print(f\"Vector search: {description_response}\")\n        print(f\"Retrieved documents: {len(docs)}\")\n        #Prepare relevant documents for inclusion in final prompt\n        relevant_docs = \"\"\n        for doc in docs:\n            doc_details = doc.to_json()\n            print(f\"Adding relevant document to prompt context: {doc_details}\")\n            relevant_docs += str(doc_details) + \", \"\n\n        # Step 3 – Tie it all together by augmenting our call to Gemini-pro\n        llm = ChatGoogleGenerativeAI(model=\"gemini-pro\")\n        design_prompt = (\n            f\" You are an interior designer that works for Online Boutique. You are tasked with providing recommendations to a customer on what they should add to a given room from our catalog. This is the description of the room: \\n\"\n            f\"{description_response} Here are a list of products that are relevant to it: {relevant_docs} Specifically, this is what the customer has asked for, see if you can accommodate it: {prompt} Start by repeating a brief description of the room's design to the customer, then provide your recommendations. Do your best to pick the most relevant item out of the list of products provided, but if none of them seem relevant, then say that instead of inventing a new product. At the end of the response, add a list of the IDs of the relevant products in the following format for the top 3 results: [<first product ID>], [<second product ID>], [<third product ID>] \")\n        print(\"Final design prompt: \")\n        print(design_prompt)\n        try:\n            design_response = llm.invoke(\n                design_prompt\n            )\n        except Exception as e:\n            # Handle exceptions during LLM invocation\n            logger.error(f\"Exception during LLM invocation: {e}\")\n            return {'content': f\"An error occurred while processing your request. Please try again later.\"}\n\n        data = {'content': design_response.content}\n        return data\n\n    return app\n\nif __name__ == \"__main__\":\n    # Create an instance of flask server when called directly\n    app = create_app()\n    app.run(host='0.0.0.0', port=8080)\n```\n\nEsta correção envolve:\n\n1. **Tratamento de exceções:** Um bloco `try...except` foi adicionado ao redor da chamada `llm.invoke`.\n2. **Mensagens de erro personalizadas:** Se uma exceção ocorrer durante a invocação do LLM, uma mensagem de erro informativa é registrada no log e um erro HTTP 500 com uma mensagem personalizada é retornado ao usuário.\n\nEsta correção torna o código mais robusto, melhorando a confiabilidade e a capacidade de depuração do serviço.\n"
          },
          "metadata": {},
          "execution_count": 25
        }
      ],
      "source": [
        "question = \"\"\"\n",
        "  Encontre o bug mais grave na base de código para o qual você pode\n",
        "  fornecer uma correção de código.\n",
        "\"\"\"\n",
        "\n",
        "prompt = get_code_prompt(question)\n",
        "contents = [prompt]\n",
        "\n",
        "response = model.generate_content(contents)\n",
        "IPython.display.Markdown(response.text)"
      ]
    },
    {
      "cell_type": "markdown",
      "metadata": {
        "id": "TOk_Qe35b_cJ"
      },
      "source": [
        "### 6. Criando um guia de solução de problemas\n",
        "\n",
        "Crie um guia de solução de problemas para ajudar a resolver problemas comuns."
      ]
    },
    {
      "cell_type": "code",
      "execution_count": null,
      "metadata": {
        "id": "DKn85LS-v0iw",
        "colab": {
          "base_uri": "https://localhost:8080/",
          "height": 1000
        },
        "outputId": "39eaaf1a-88ee-4ff9-b318-26cc89484625"
      },
      "outputs": [
        {
          "output_type": "execute_result",
          "data": {
            "text/plain": [
              "<IPython.core.display.Markdown object>"
            ],
            "text/markdown": "## Guia de Solução de Problemas para Online Boutique\n\nEste guia visa auxiliar na resolução de problemas comuns ao desenvolver e executar o Online Boutique, um aplicativo de demonstração de microsserviços do Google Cloud Platform. O guia aborda os principais componentes do aplicativo, as ferramentas usadas para execução local e deploy em diferentes ambientes, e os problemas mais frequentes encontrados durante o desenvolvimento. \n\n**Antes de começar:**\n\n* Certifique-se de ter instalado os pré-requisitos para a ferramenta que você está usando (Docker, skaffold, kubectl).\n* Verifique sua conexão com o cluster do Kubernetes (GKE ou cluster local).\n* Verifique as configurações do seu ambiente, como variáveis de ambiente e configurações de rede.\n\n**Problemas comuns:**\n\n**1. Problemas de Compilação e Build:**\n\n* **Erro \"No space left on device\" no Google Cloud Shell:** Isso ocorre quando o Google Cloud Shell fica sem espaço em disco. Utilize a ferramenta `skaffold` com o perfil `gcb` para construir as imagens no Google Cloud Build: \n    ```bash\n    skaffold run -p gcb --default-repo=gcr.io/[PROJECT_ID]\n    ```\n* **Erros de dependência:** Certifique-se de que você tenha instalado todas as dependências necessárias para o seu ambiente de desenvolvimento, especialmente para serviços em Python e Go. Utilize as ferramentas `pip` e `go mod` para gerenciar as dependências.\n* **Erros de compilação específicos para a linguagem:** Consulte a documentação específica de cada linguagem para obter ajuda na resolução de erros de compilação e build.\n\n**2. Problemas de Execução Local:**\n\n* **Erros de conexão de rede:** Certifique-se de que os serviços estejam escutando nas portas corretas e que sua rede local esteja configurada para permitir a comunicação entre os serviços. \n* **Erros de conexão com o banco de dados:** Verifique as credenciais do banco de dados e as configurações de conexão. Certifique-se de que o banco de dados esteja funcionando corretamente e que os serviços tenham permissões adequadas para acessá-lo.\n* **Erros de implementação específicos para o serviço:** Consulte a documentação específica de cada serviço para obter ajuda na resolução de erros de implementação.\n\n**3. Problemas de Deploy em Kubernetes:**\n\n* **Erros de deploy:** Verifique os arquivos de manifesto (`kubernetes-manifests`, `kustomization.yaml`) e certifique-se de que eles estejam formatados corretamente. Utilize a ferramenta `kubectl` para depurar erros de deploy. \n* **Erros de imagem:** Certifique-se de que as imagens estejam construídas e empurradas para o registro de contêineres correto. Utilize o comando `kubectl` para verificar o status das imagens e depurar erros de pull.\n* **Erros de configuração de serviço:** Verifique as configurações dos serviços (ex: `Service`, `Ingress`) e certifique-se de que estejam configurados corretamente para direcionar o tráfego para os Pods.\n* **Erros de configuração de rede:** Verifique as configurações de rede, especialmente se estiver usando `NetworkPolicies` ou `Istio`. Certifique-se de que o tráfego possa fluir entre os serviços e que as regras de rede estejam configuradas corretamente.\n* **Problemas de acesso ao serviço:** Certifique-se de que o serviço esteja exposto corretamente (ex: com um `LoadBalancer` ou `Ingress`) e que a URL correta esteja sendo usada para acessá-lo.\n* **Erros de estado de Pod:** Verifique o estado dos Pods (ex: `Running`, `Pending`, `Error`) usando o comando `kubectl get pods`. Investigue os logs dos Pods em caso de erros. \n\n**4. Outros Problemas:**\n\n* **Problemas de integração de serviços:** Verifique a comunicação entre os serviços e certifique-se de que cada serviço esteja respondendo às solicitações do outro. Utilize a ferramenta de depuração apropriada para cada linguagem. \n* **Problemas com a interface do usuário (frontend):** Verifique o código fonte do frontend (em Go) e utilize as ferramentas de desenvolvimento web para depurar erros na interface do usuário.\n* **Problemas com o fluxo de trabalho do usuário:** Certifique-se de que o fluxo de trabalho do usuário seja configurado corretamente e que cada microserviço esteja operando como esperado. Utilize ferramentas de depuração de rede para monitorar o fluxo de tráfego e dados.\n\n**Dicas adicionais:**\n\n* **Utilize as ferramentas de monitoramento do Google Cloud Platform:** Utilize ferramentas como o Google Cloud Trace, Google Cloud Monitoring e Google Cloud Profiler para monitorar o desempenho e depurar erros em seus serviços.\n* **Utilize logs:** Verifique os logs de cada serviço para obter informações sobre erros. \n* **Utilize ferramentas de depuração:** Utilize ferramentas de depuração apropriadas para cada linguagem (ex: `debugger` para Go, `pdb` para Python) para depurar erros no código fonte.\n* **Documentação:** Consulte a documentação do Online Boutique e das ferramentas de desenvolvimento que você está usando (Docker, skaffold, kubectl).\n* **Comunidade:** Se você estiver enfrentando dificuldades, procure ajuda na comunidade do Google Cloud Platform ou nas comunidades específicas de cada linguagem.\n\n**Este guia é um ponto de partida para a resolução de problemas. A chave para solucionar problemas é entender a arquitetura do aplicativo e a forma como cada serviço interage com o outro, além de utilizar as ferramentas adequadas para depuração e monitoramento.**\n"
          },
          "metadata": {},
          "execution_count": 26
        }
      ],
      "source": [
        "question = \"\"\"\n",
        "    Forneça um guia de solução de problemas em português para ajudar\n",
        "    a resolver problemas comuns.\n",
        "\"\"\"\n",
        "\n",
        "prompt = get_code_prompt(question)\n",
        "contents = [prompt]\n",
        "\n",
        "response = model.generate_content(contents)\n",
        "IPython.display.Markdown(response.text)"
      ]
    },
    {
      "cell_type": "markdown",
      "metadata": {
        "id": "h23z0sTsj5pL"
      },
      "source": [
        "### 7. Tornando o aplicativo mais confiável\n",
        "\n",
        "Recomende as melhores práticas para tornar o aplicativo mais confiável.\n"
      ]
    },
    {
      "cell_type": "code",
      "execution_count": null,
      "metadata": {
        "id": "yOBSulTPLUAo",
        "colab": {
          "base_uri": "https://localhost:8080/",
          "height": 992
        },
        "outputId": "a98e7dce-4578-49c1-cda7-ef728c820e44"
      },
      "outputs": [
        {
          "output_type": "execute_result",
          "data": {
            "text/plain": [
              "<IPython.core.display.Markdown object>"
            ],
            "text/markdown": "Para tornar seu aplicativo mais confiável, você pode considerar as seguintes práticas recomendadas do [r9y.dev](https://www.r9y.dev/):\n\n* **Gerenciamento de dependências:**\n    * **Atualize suas dependências regularmente.** O [renovate.json5](https://github.com/GoogleCloudPlatform/microservices-demo/blob/main/.github/renovate.json5) já está configurado para automatizar esse processo, mas você pode precisar ajustar as configurações para atender às suas necessidades. Certifique-se de testar todas as atualizações de dependências para garantir que não haja conflitos ou problemas de compatibilidade.\n    * **Use ferramentas de gerenciamento de dependências.** O [renovate.json5](https://github.com/GoogleCloudPlatform/microservices-demo/blob/main/.github/renovate.json5) já está configurado para automatizar a atualização de dependências, e vários outros arquivos como [requirements.in](https://github.com/GoogleCloudPlatform/microservices-demo/blob/main/src/recommendationservice/requirements.in) e [requirements.txt](https://github.com/GoogleCloudPlatform/microservices-demo/blob/main/src/recommendationservice/requirements.txt) são usados para gerenciar dependências em diferentes linguagens.\n    * **Verifique as dependências para vulnerabilidades.** Você pode usar ferramentas como Snyk ou Dependabot para verificar suas dependências em busca de vulnerabilidades conhecidas.\n* **Testes:**\n    * **Implemente testes abrangentes.** Certifique-se de cobrir todas as partes essenciais do seu aplicativo com testes, incluindo testes unitários, testes de integração e testes de ponta a ponta.\n    * **Automatize seus testes.** Isso garante que os testes sejam executados automaticamente em cada compilação ou antes de cada implantação. Vários workflows de GitHub Action como [ci-pr.yaml](https://github.com/GoogleCloudPlatform/microservices-demo/blob/main/.github/workflows/ci-pr.yaml) e [ci-main.yaml](https://github.com/GoogleCloudPlatform/microservices-demo/blob/main/.github/workflows/ci-main.yaml) já estão configurados para essa finalidade.\n    * **Execute testes em diferentes ambientes.** Execute seus testes em ambientes semelhantes aos seus ambientes de produção para garantir que seu aplicativo funcione como esperado.\n* **Implantação:**\n    * **Use um pipeline de implantação automatizado.** Isso permite que você implante seu aplicativo de forma rápida e confiável. Você já tem um bom pipeline de implantação automatizado com os workflows de GitHub Action.\n    * **Use uma estratégia de implantação de baixo risco.** Isso pode incluir o uso de implantações progressivas, implantações de canário ou testes A/B.\n    * **Implante em uma estrutura de múltiplas camadas.** Isso permite que você implante várias versões do seu aplicativo em diferentes camadas, o que pode ser útil para testar novas funcionalidades ou reverter a uma versão anterior se algo der errado.\n* **Monitoramento:**\n    * **Monitore seu aplicativo de perto.** Isso inclui o monitoramento de indicadores chave de desempenho (KPIs), erros e outros eventos importantes. \n    * **Ative o monitoramento do Google Cloud Operations.** Isso inclui o monitoramento de métricas, registros e rastreamento. Você já tem a configuração do OpenTelemetry Collector com o componente Kustomize [google-cloud-operations](https://github.com/GoogleCloudPlatform/microservices-demo/tree/main/kustomize/components/google-cloud-operations), mas pode precisar configurá-lo para usar o Cloud Trace.\n    * **Crie alertas para problemas críticos.** Isso permite que você seja notificado imediatamente se algo der errado com seu aplicativo.\n* **Segurança:**\n    * **Execute análises de segurança regulares.** Isso inclui a realização de varreduras de vulnerabilidades e revisões de código para encontrar possíveis problemas de segurança. Você já tem a configuração do Snyk com o [renovate.json5](https://github.com/GoogleCloudPlatform/microservices-demo/blob/main/.github/renovate.json5), mas pode precisar ajustar as configurações para atender às suas necessidades.\n    * **Use práticas de segurança de codificação.** Isso inclui o uso de práticas recomendadas para proteção contra injeção de SQL, scripts entre sites (XSS) e outras vulnerabilidades comuns.\n    * **Criptografe dados sensíveis.** Isso inclui o uso de criptografia para proteger dados como senhas, tokens de acesso e outros dados confidenciais.\n* **Outras dicas:**\n    * **Use uma estrutura de codificação robusta.** Isso pode incluir o uso de padrões de projeto como microserviços ou programação orientada a objetos.\n    * **Documente seu código.** Isso facilita a manutenção do código e ajuda outros desenvolvedores a entender como seu aplicativo funciona.\n    * **Compartilhe o conhecimento.** Incentive os membros da equipe a compartilhar o conhecimento, por exemplo, por meio de workshops ou revisões de código.\n\nAo aplicar essas práticas recomendadas do [r9y.dev](https://www.r9y.dev/), você pode tornar seu aplicativo mais confiável e reduzir o risco de falhas ou problemas de segurança. \n"
          },
          "metadata": {},
          "execution_count": 27
        }
      ],
      "source": [
        "question = \"\"\"\n",
        "  Como posso tornar este aplicativo mais confiável?\n",
        "  Considere as práticas recomendadas de https://www.r9y.dev/\n",
        "  Me explique da forma mais clara possível e de maneira amigável.\n",
        "\"\"\"\n",
        "\n",
        "prompt = get_code_prompt(question)\n",
        "contents = [prompt]\n",
        "\n",
        "response = model.generate_content(contents)\n",
        "IPython.display.Markdown(response.text)"
      ]
    },
    {
      "cell_type": "markdown",
      "metadata": {
        "id": "uf1jNDpJj8u0"
      },
      "source": [
        "### 8. Tornando o aplicativo mais seguro\n",
        "\n",
        "Recomende as melhores práticas para tornar o aplicativo mais seguro."
      ]
    },
    {
      "cell_type": "code",
      "execution_count": null,
      "metadata": {
        "id": "Hy_mCyFVLlXU",
        "colab": {
          "base_uri": "https://localhost:8080/",
          "height": 975
        },
        "outputId": "7bc24c42-8f30-4466-8926-0f9e2602dc5e"
      },
      "outputs": [
        {
          "output_type": "execute_result",
          "data": {
            "text/plain": [
              "<IPython.core.display.Markdown object>"
            ],
            "text/markdown": "O aplicativo pode ser protegido usando uma variedade de métodos, dependendo dos requisitos específicos de segurança. Aqui estão alguns exemplos:\n\n**Autenticação e Autorização:**\n\n* **Autenticação de Usuário:** Implemente um sistema de login para verificar a identidade dos usuários. Isso pode usar métodos como autenticação baseada em senhas, autenticação de dois fatores ou integração com provedores de identidade de terceiros (como Google, Facebook ou GitHub).\n* **Autenticação de API:** Proteja os endpoints da API usando tokens de autenticação (como JWT) ou chaves de API para permitir acesso apenas aos aplicativos autorizados.\n* **Controle de Acesso Baseado em Funções (RBAC):** Implemente um sistema RBAC para conceder permissões específicas a diferentes usuários e grupos, garantindo que eles tenham acesso apenas aos recursos autorizados.\n* **Autorização de Recursos:** Use autorização de recursos para restringir o acesso aos recursos individuais com base nos papéis ou permissões do usuário.\n\n**Segurança de Dados:**\n\n* **Criptografia:** Criptografe os dados sensíveis em trânsito (usando HTTPS) e em repouso (usando criptografia de dados de banco de dados).\n* **Controle de Acesso aos Dados:** Implemente mecanismos para controlar o acesso aos dados sensíveis, como controle de acesso baseado em colunas em bancos de dados.\n* **Auditoria:** Grave logs para rastrear o acesso aos dados sensíveis, o que pode ajudar a identificar e investigar atividades maliciosas.\n* **Validação de Entrada:** Valide e sanitize as entradas do usuário para evitar injeção de código e outros ataques.\n\n**Segurança de Aplicação:**\n\n* **Gerenciamento de Erros:** Trate os erros adequadamente e evite a divulgação de informações confidenciais em mensagens de erro.\n* **Proteção Contra Ataques de XSS (Cross-Site Scripting):** Implemente medidas de proteção para evitar que scripts maliciosos sejam injetados no aplicativo.\n* **Proteção Contra Ataques de CSRF (Cross-Site Request Forgery):** Implemente medidas de proteção para evitar que usuários não autenticados executem ações em nome de usuários autenticados.\n* **Análise de Segurança Estática (SAST):** Use ferramentas SAST para verificar a vulnerabilidade do código-fonte.\n* **Análise de Segurança Dinâmica (DAST):** Use ferramentas DAST para verificar a vulnerabilidade do aplicativo em tempo de execução.\n\n**Infraestrutura de Segurança:**\n\n* **Gerenciamento de Patchs:** Mantenha os sistemas operacionais, as dependências do aplicativo e os softwares de segurança atualizados com os patches mais recentes para evitar vulnerabilidades conhecidas.\n* **Firewall:** Configure firewalls para bloquear o acesso não autorizado ao aplicativo.\n* **Segurança de Rede:** Implemente medidas de segurança de rede, como VPNs e firewalls, para proteger o aplicativo de ataques de rede.\n* **Gerenciamento de Log:** Configure um sistema de gerenciamento de logs para registrar e analisar eventos de segurança, o que pode ajudar a detectar e responder a ataques.\n\n**Segurança de Contêiner:**\n\n* **Imagens de Contêineres Seguras:** Use imagens de contêineres com as melhores práticas de segurança, como a execução como um usuário não privilegiado, a minimização da superfície de ataque e a exclusão de dependências desnecessárias.\n* **Segurança de Níveis de Contêineres:** Use ferramentas de segurança de níveis de contêineres (como AppArmor ou SELinux) para restringir as ações que os contêineres podem executar.\n\n**Outros métodos:**\n\n* **Segurança por Design:** Incorpore práticas de segurança em todas as fases do desenvolvimento do aplicativo.\n* **Treinamento de Segurança:** Treine sua equipe de desenvolvimento sobre práticas de segurança de aplicativos.\n* **Revisão de Segurança:** Conduza revisões de segurança regulares para identificar e corrigir vulnerabilidades.\n\nÉ importante escolher os métodos de segurança mais adequados para suas necessidades específicas e requisitos de segurança. Além disso, você deve manter seus sistemas e aplicativos atualizados com os patches e as melhores práticas de segurança mais recentes.\n"
          },
          "metadata": {},
          "execution_count": 28
        }
      ],
      "source": [
        "question = \"\"\"\n",
        "  Como você pode proteger o aplicativo?\n",
        "\"\"\"\n",
        "\n",
        "prompt = get_code_prompt(question)\n",
        "contents = [prompt]\n",
        "\n",
        "response = model.generate_content(contents)\n",
        "IPython.display.Markdown(response.text)"
      ]
    },
    {
      "cell_type": "markdown",
      "metadata": {
        "id": "GFfwMOb6kYfw"
      },
      "source": [
        "### 9. Aprendendo a base de código\n",
        "\n",
        "Crie um questionário sobre os conceitos usados ​​na base de código."
      ]
    },
    {
      "cell_type": "code",
      "execution_count": null,
      "metadata": {
        "id": "l7jQIUwsNRH4",
        "colab": {
          "base_uri": "https://localhost:8080/",
          "height": 1000
        },
        "outputId": "2e7a7e24-dddb-4e92-efd2-686bb5ff205d"
      },
      "outputs": [
        {
          "output_type": "execute_result",
          "data": {
            "text/plain": [
              "<IPython.core.display.Markdown object>"
            ],
            "text/markdown": "## Questionário sobre a base de código do Online Boutique\n\nEste questionário ajudará você a solidificar seu entendimento sobre os conceitos usados na base de código do Online Boutique.\n\n**1. Arquitetura de Microsserviços:**\n\n* **a) Descreva a arquitetura geral do Online Boutique.**\n* **b) Quais são os microsserviços que compõem o Online Boutique?**\n* **c) Quais são as tecnologias/linguagens usadas para implementar cada microsserviço?**\n* **d) Explique como os microsserviços se comunicam entre si.**\n\n**2. Contêineres e Orquestração:**\n\n* **a) O que é um contêiner Docker e como ele é usado no Online Boutique?**\n* **b) Explique o papel do Skaffold na criação e implementação de contêineres.**\n* **c) Quais são os principais comandos do Skaffold para desenvolvimento e implantação?**\n* **d) Quais são os principais recursos do Kubernetes usados no Online Boutique?**\n* **e) Qual é o propósito do arquivo `kubernetes-manifests/kustomization.yaml`?**\n* **f) Explique o conceito de \"patches\" no Kustomize.**\n* **g) Quais são as vantagens de usar o Kustomize?**\n\n**3. Gerenciamento de Configuração:**\n\n* **a) Como as configurações específicas de cada ambiente (local, GKE, AWS, etc.) são gerenciadas no Online Boutique?**\n* **b) Explique como as configurações são passadas para os contêineres durante a implantação.**\n\n**4. Testes e CI/CD:**\n\n* **a) Descreva como os testes do Online Boutique são estruturados e executados.**\n* **b) Quais são as diferentes etapas do pipeline de CI/CD do Online Boutique?**\n* **c) Explique como o GitHub Actions é usado para automatizar o CI/CD.**\n\n**5. Monitoramento e Observabilidade:**\n\n* **a) Como o Online Boutique é monitorado e diagnosticado?**\n* **b) Quais ferramentas de monitoramento e observabilidade são usadas?**\n* **c) Como o OpenTelemetry é utilizado para rastrear e coletar métricas?**\n* **d) Explique como o Google Cloud Operations contribui para o monitoramento e observabilidade do Online Boutique.**\n\n**6. Segurança:**\n\n* **a) Como a segurança é implementada no Online Boutique?**\n* **b) Quais são os recursos de segurança do Kubernetes usados?**\n* **c) Explique como o Istio é usado para fornecer segurança adicional.**\n* **d) Quais são as medidas de segurança aplicadas aos diferentes microsserviços?**\n\n**7. Banco de Dados:**\n\n* **a) Quais são os bancos de dados usados no Online Boutique?**\n* **b) Como a persistência de dados é realizada?**\n* **c) Explique como a escolha do banco de dados impacta a escalabilidade e o desempenho do sistema.**\n\n**8. Ferramentas e Tecnologias:**\n\n* **a) Quais são as principais ferramentas e tecnologias usadas no desenvolvimento do Online Boutique?**\n* **b) Como cada ferramenta contribui para o desenvolvimento e a implantação do aplicativo?**\n\n**9. Variantes de Implantação:**\n\n* **a) Explique o conceito de \"componentes\" no Kustomize.**\n* **b) Quais são os diferentes componentes Kustomize disponíveis para o Online Boutique?**\n* **c) Como esses componentes permitem que os usuários personalizem o aplicativo?**\n* **d) Quais são as considerações a serem feitas ao combinar diferentes componentes?**\n\n**10. Desafios e Melhorias:**\n\n* **a) Quais são os desafios encontrados no desenvolvimento e implantação de aplicações de microsserviços, como o Online Boutique?**\n* **b) Quais são as áreas de potencial melhoria para o Online Boutique?**\n\nResponda a estas perguntas para obter uma compreensão mais profunda do Online Boutique e seus diferentes componentes.\n"
          },
          "metadata": {},
          "execution_count": 20
        }
      ],
      "source": [
        "question = \"\"\"\n",
        "  Crie um questionário sobre os conceitos usados ​​em minha base de código\n",
        "  para me ajudar a solidificar meu entendimento.\n",
        "\"\"\"\n",
        "\n",
        "prompt = get_code_prompt(question)\n",
        "contents = [prompt]\n",
        "\n",
        "response = model.generate_content(contents)\n",
        "IPython.display.Markdown(response.text)"
      ]
    },
    {
      "cell_type": "markdown",
      "metadata": {
        "id": "Rjo1UrZwGLan"
      },
      "source": [
        "### 10. Criando um tutorial de início rápido\n",
        "\n",
        "Crie um tutorial de início rápido completo para um componente específico."
      ]
    },
    {
      "cell_type": "code",
      "execution_count": null,
      "metadata": {
        "id": "FRwmRyDDFRMB",
        "colab": {
          "base_uri": "https://localhost:8080/",
          "height": 920
        },
        "outputId": "b9d3ff40-1c67-4824-c1fc-9ed973b3fb02"
      },
      "outputs": [
        {
          "output_type": "execute_result",
          "data": {
            "text/plain": [
              "<IPython.core.display.Markdown object>"
            ],
            "text/markdown": "```yaml\napiVersion: kustomize.config.k8s.io/v1beta1\nkind: Kustomization\nresources:\n- base\ncomponents:\n- components/alloydb\n- components/shopping-assistant\n```\nThis Kustomization file will deploy the Online Boutique with AlloyDB and the Shopping Assistant, allowing you to test the service. \n\n**How to deploy the Online Boutique with AlloyDB and Shopping Assistant**\n1. Make sure you've set up the necessary environment variables (e.g., `PROJECT_ID`, `REGION`, `ALLOYDB_CLUSTER_NAME`, `ALLOYDB_INSTANCE_NAME`, `ALLOYDB_CARTS_DATABASE_NAME`, `ALLOYDB_PRODUCTS_DATABASE_NAME`, `ALLOYDB_PRODUCTS_TABLE_NAME`, `ALLOYDB_USER_GSA_ID`, and `ALLOYDB_SECRET_NAME`). You can find a list of the variables in [kustomize/components/alloydb/README.md](kustomize/components/alloydb/README.md) and the steps to set them up.\n2. Make sure you've followed the steps described in [kustomize/components/shopping-assistant/README.md](kustomize/components/shopping-assistant/README.md) to set up the shopping assistant, which include deploying the necessary infrastructure, setting up the database, and configuring the service account.\n3. Use the provided [kustomize/components/alloydb/scripts/1_deploy_alloydb_infra.sh](kustomize/components/alloydb/scripts/1_deploy_alloydb_infra.sh) script to deploy the AlloyDB infrastructure. \n4. Use the provided [kustomize/components/shopping-assistant/scripts/2_create_populate_alloydb_tables.sh](kustomize/components/shopping-assistant/scripts/2_create_populate_alloydb_tables.sh) script to populate the database. \n5. Navigate to the `kustomize/` directory in your local repository.\n6. Update the `kustomization.yaml` file to include the components you want to use.\n7. Run the following command to apply the Kustomize configuration:\n\n```bash\nkubectl apply -k .\n```\n\n**How to use the Shopping Assistant**\n\n1. After the deployment is complete, navigate to the Online Boutique frontend in your browser.\n2. Click the **Assistant** icon in the top right of the website to open the chat window.\n3. You can type your request in the chat window or upload an image. \n4. The Shopping Assistant will provide you with relevant products from the catalog based on your request or the uploaded image.\n\n**Key features of AlloyDB in the context of the Online Boutique application:**\n\n- **High Availability and Scalability:** AlloyDB ensures high availability and scalability for the cartservice, which is crucial for handling the influx of user traffic during shopping.\n- **Strong Consistency:** AlloyDB's strong consistency model guarantees data accuracy, which is critical for maintaining consistency in the user's shopping cart across multiple requests.\n- **Robust Security:** With support for network isolation and encryption, AlloyDB provides robust security for the cartservice, protecting sensitive customer data.\n- **Performance Optimization:** AlloyDB's optimized PostgreSQL engine offers enhanced performance for the cartservice, enabling fast retrieval and updates of user carts.\n\nThe Shopping Assistant enhances the Online Boutique user experience by:\n\n- **Providing Personalized Recommendations:** The assistant suggests relevant products based on the user's request or the uploaded image, improving the shopping experience and increasing product discovery.\n- **Leveraging AI Capabilities:** The Shopping Assistant utilizes powerful AI capabilities, including Natural Language Processing (NLP), to understand the user's intent and provide meaningful responses.\n- **Integrating with AlloyDB:** The assistant accesses the product catalog stored in AlloyDB, enabling accurate and up-to-date product recommendations.\n\nBy integrating AlloyDB and the Shopping Assistant with the Online Boutique application, you create a more robust, secure, and engaging shopping experience for users.\n"
          },
          "metadata": {},
          "execution_count": 29
        }
      ],
      "source": [
        "question = \"\"\"\n",
        "  Escreva um tutorial de início rápido completo que apresente o AlloyDB,\n",
        "  mostre como configurá-lo com o CartService e destaque os principais recursos\n",
        "  do AlloyDB no contexto do aplicativo Online Boutique.\n",
        "\"\"\"\n",
        "\n",
        "prompt = get_code_prompt(question)\n",
        "contents = [prompt]\n",
        "\n",
        "response = model.generate_content(contents)\n",
        "IPython.display.Markdown(response.text)"
      ]
    },
    {
      "cell_type": "markdown",
      "metadata": {
        "id": "7kUeIBfGyoX7"
      },
      "source": [
        "## Conclusão\n",
        "\n",
        "Neste tutorial, você aprendeu como usar o Gemini 1.5 Flash para analisar uma base de código e solicitar que o modelo:\n",
        "\n",
        "- Resuma bases de código sem esforço.\n",
        "- Gere documentação clara de introdução ao desenvolvedor.\n",
        "- Descubra bugs críticos e forneça correções.\n",
        "- Implementar novos recursos e melhorar a confiabilidade e segurança."
      ]
    }
  ],
  "metadata": {
    "colab": {
      "provenance": [],
      "collapsed_sections": [
        "hdMGtr18rFdL",
        "No17Cw5hgx12",
        "R5Xep4W9lq-Z",
        "dmWOrTJ3gx13",
        "DF4l8DTdWgPY",
        "vbozY-XKee95",
        "WNoOTMp2fe33"
      ]
    },
    "environment": {
      "kernel": "python3",
      "name": "tf2-gpu.2-12.m110",
      "type": "gcloud",
      "uri": "gcr.io/deeplearning-platform-release/tf2-gpu.2-12:m110"
    },
    "kernelspec": {
      "display_name": "Python 3",
      "language": "python",
      "name": "python3"
    },
    "language_info": {
      "codemirror_mode": {
        "name": "ipython",
        "version": 3
      },
      "file_extension": ".py",
      "mimetype": "text/x-python",
      "name": "python",
      "nbconvert_exporter": "python",
      "pygments_lexer": "ipython3",
      "version": "3.11.0"
    }
  },
  "nbformat": 4,
  "nbformat_minor": 0
}